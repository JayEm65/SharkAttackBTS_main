{
 "cells": [
  {
   "cell_type": "code",
   "execution_count": null,
   "metadata": {},
   "outputs": [],
   "source": [
    "# main_script.py\n",
    "\n",
    "# Import necessary functions and libraries\n",
    "from initial_setup import load_data, initial_preview\n",
    "from data_cleaning import initial_cleaning\n",
    "from column_cleaning import (clean_fatal_column, clean_sex_column, clean_type_column, clean_time_column, clean_age_column)\n",
    "from feature_engineering import (apply_date_reformatting, apply_seasonality, handle_activity_location_na)\n",
    "from visualizations import (plot_seasonality_pie_chart, plot_type_distribution_bar)\n",
    "\n",
    "# Section 1: Initial Setup\n",
    "url = 'https://www.sharkattackfile.net/spreadsheets/GSAF5.xls'\n",
    "df = load_data(url)\n",
    "\n",
    "# Uncomment to get an initial preview of the raw DataFrame\n",
    "# initial_preview(df)\n",
    "\n",
    "# Section 2: DataFrame Cleaning Preparation\n",
    "df = initial_cleaning(df)\n",
    "print(\"Columns after initial cleaning:\", df.columns.tolist())\n",
    "\n",
    "# Creating a copy of the cleaned DataFrame for further manipulation\n",
    "df_copy = df.copy()\n",
    "\n",
    "# Section 3: Cleaning Specific Columns\n",
    "df_copy = clean_fatal_column(df_copy)\n",
    "df_copy = clean_sex_column(df_copy)\n",
    "df_copy = clean_type_column(df_copy)\n",
    "df_copy = clean_time_column(df_copy)\n",
    "df_copy = clean_age_column(df_copy)\n",
    "\n",
    "# Section 4: Reformatting Dates and Adding Seasonality Information\n",
    "df_copy = apply_date_reformatting(df_copy)\n",
    "print(\"Date reformatting - value counts:\\n\", df_copy['date'].value_counts(dropna=False))\n",
    "\n",
    "df_copy = apply_seasonality(df_copy)\n",
    "valid_seasons_df = df_copy[df_copy['seasonality'] != \"Unknown\"]\n",
    "season_counts = valid_seasons_df['seasonality'].value_counts()\n",
    "total_count = len(valid_seasons_df)\n",
    "season_percentage = (season_counts / total_count) * 100\n",
    "print(\"Seasonality percentage:\\n\", season_percentage)\n",
    "\n",
    "# Section 5: Handling NaNs in 'activity' and 'location'\n",
    "df_copy = handle_activity_location_na(df_copy)\n",
    "print(\"Activity column - value counts:\\n\", df_copy['activity'].value_counts(dropna=False))\n",
    "\n",
    "# Final Output: Updated DataFrame\n",
    "print(\"Updated DataFrame:\\n\", df_copy.head())\n",
    "\n",
    "# Section 6: Visualizations\n",
    "deaths_by_year = df_copy[df_copy['fatal'] == 'y'].groupby('year').size()\n",
    "\n",
    "# Call visualization functions\n",
    "plot_seasonality_pie_chart(season_counts)\n",
    "plot_type_distribution_bar(df_copy)"
   ]
  },
  {
   "cell_type": "code",
   "execution_count": null,
   "metadata": {},
   "outputs": [],
   "source": []
  }
 ],
 "metadata": {
  "kernelspec": {
   "display_name": "Python 3",
   "language": "python",
   "name": "python3"
  },
  "language_info": {
   "codemirror_mode": {
    "name": "ipython",
    "version": 3
   },
   "file_extension": ".py",
   "mimetype": "text/x-python",
   "name": "python",
   "nbconvert_exporter": "python",
   "pygments_lexer": "ipython3",
   "version": "3.12.6"
  }
 },
 "nbformat": 4,
 "nbformat_minor": 2
}
