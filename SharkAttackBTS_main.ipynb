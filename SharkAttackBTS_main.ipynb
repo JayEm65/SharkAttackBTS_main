{
 "cells": [
  {
   "cell_type": "code",
   "execution_count": 2,
   "metadata": {},
   "outputs": [],
   "source": [
    "# Initial Setup:\n",
    "import pandas as pd\n",
    "import numpy as np\n",
    "import re\n",
    "\n",
    "url = 'https://www.sharkattackfile.net/spreadsheets/GSAF5.xls'\n",
    "df = pd.read_excel(url)"
   ]
  },
  {
   "cell_type": "code",
   "execution_count": 3,
   "metadata": {},
   "outputs": [
    {
     "name": "stdout",
     "output_type": "stream",
     "text": [
      "head:\n",
      "          Date    Year        Type    Country              State  \\\n",
      "0  15 Mar 2024  2024.0  Unprovoked  AUSTRALIA         Queensland   \n",
      "1  04 Mar 2024  2024.0  Unprovoked        USA             Hawaii   \n",
      "2  02 Mar-2024  2024.0  Unprovoked        USA             Hawaii   \n",
      "3  25 Feb-2024  2024.0  Unprovoked  AUSTRALIA  Western Australia   \n",
      "4  14 Feb-2024  2024.0  Unprovoked      INDIA        Maharashtra   \n",
      "\n",
      "                           Location  Activity                 Name Sex  Age  \\\n",
      "0                     Bargara Beach  Swimming       Brooklyn Sauer   F   13   \n",
      "1                Old Man's, Waikiki   Surfing        Matthew White   M  NaN   \n",
      "2                    Rainbows, Oahu  Swimming                  NaN   F   11   \n",
      "3        Sandlnd Island, Jurian Bay       NaN               female   F   46   \n",
      "4  Vaitarna River, Palghar District   Fishing  Vicky Suresh Govari   M   32   \n",
      "\n",
      "   ...        Species                      Source  pdf href formula href  \\\n",
      "0  ...     Tiger shark      Yahoo News, 3/15/2024  NaN          NaN  NaN   \n",
      "1  ...  Tiger shark 8'          Surfer, 3/6/2024F  NaN          NaN  NaN   \n",
      "2  ...  3' to 4' shark  Hawaii News Now, 3/4/2024  NaN          NaN  NaN   \n",
      "3  ...     Tiger shark        WA Today, 2/26/2024  NaN          NaN  NaN   \n",
      "4  ...  Bull shark, 7'  Times of India, 2/14/2024  NaN          NaN  NaN   \n",
      "\n",
      "  Case Number Case Number.1 original order Unnamed: 21 Unnamed: 22  \n",
      "0         NaN           NaN            NaN         NaN         NaN  \n",
      "1         NaN           NaN            NaN         NaN         NaN  \n",
      "2         NaN           NaN            NaN         NaN         NaN  \n",
      "3         NaN           NaN            NaN         NaN         NaN  \n",
      "4         NaN           NaN            NaN         NaN         NaN  \n",
      "\n",
      "[5 rows x 23 columns]\n",
      "\n",
      "info:\n",
      "<class 'pandas.core.frame.DataFrame'>\n",
      "RangeIndex: 6969 entries, 0 to 6968\n",
      "Data columns (total 23 columns):\n",
      " #   Column          Non-Null Count  Dtype  \n",
      "---  ------          --------------  -----  \n",
      " 0   Date            6944 non-null   object \n",
      " 1   Year            6942 non-null   float64\n",
      " 2   Type            6926 non-null   object \n",
      " 3   Country         6894 non-null   object \n",
      " 4   State           6462 non-null   object \n",
      " 5   Location        6379 non-null   object \n",
      " 6   Activity        6358 non-null   object \n",
      " 7   Name            6724 non-null   object \n",
      " 8   Sex             6365 non-null   object \n",
      " 9   Age             3950 non-null   object \n",
      " 10  Injury          6909 non-null   object \n",
      " 11  Unnamed: 11     6382 non-null   object \n",
      " 12  Time            3418 non-null   object \n",
      " 13  Species         3812 non-null   object \n",
      " 14  Source          6925 non-null   object \n",
      " 15  pdf             6799 non-null   object \n",
      " 16  href formula    6819 non-null   object \n",
      " 17  href            6796 non-null   object \n",
      " 18  Case Number     6798 non-null   object \n",
      " 19  Case Number.1   6797 non-null   object \n",
      " 20  original order  6799 non-null   float64\n",
      " 21  Unnamed: 21     1 non-null      object \n",
      " 22  Unnamed: 22     2 non-null      object \n",
      "dtypes: float64(2), object(21)\n",
      "memory usage: 1.2+ MB\n",
      "\n",
      "describe:\n",
      "              Year  original order\n",
      "count  6942.000000     6799.000000\n",
      "mean   1934.403342     3401.152081\n",
      "std     272.920956     1963.076319\n",
      "min       0.000000        2.000000\n",
      "25%    1947.000000     1701.500000\n",
      "50%    1985.000000     3401.000000\n",
      "75%    2009.000000     5100.500000\n",
      "max    2024.000000     6802.000000\n",
      "\n",
      "columns:\n",
      "['Date', 'Year', 'Type', 'Country', 'State', 'Location', 'Activity', 'Name', 'Sex', 'Age', 'Injury', 'Unnamed: 11', 'Time', 'Species ', 'Source', 'pdf', 'href formula', 'href', 'Case Number', 'Case Number.1', 'original order', 'Unnamed: 21', 'Unnamed: 22']\n"
     ]
    }
   ],
   "source": [
    "# Preview of raw DataFrame:\n",
    "print(\"head:\")\n",
    "print(df.head())\n",
    "\n",
    "print(\"\\ninfo:\")\n",
    "df.info()\n",
    "\n",
    "print(\"\\ndescribe:\")\n",
    "print(df.describe())\n",
    "\n",
    "print(\"\\ncolumns:\")\n",
    "print(df.columns.tolist())"
   ]
  },
  {
   "cell_type": "code",
   "execution_count": 4,
   "metadata": {},
   "outputs": [
    {
     "name": "stdout",
     "output_type": "stream",
     "text": [
      "['date', 'year', 'type', 'country', 'state', 'activity', 'sex', 'age', 'fatal', 'time']\n"
     ]
    }
   ],
   "source": [
    "# DataFrame cleaning preparation:\n",
    "\n",
    "# 1. Dropping unneeded columns and duplicates:\n",
    "columns_to_drop = [\"Source\", \"Location\", \"Injury\", \"Name\", \"pdf\", \"href formula\",\n",
    "                   \"href\", \"Case Number\", \"Case Number.1\", \"original order\",\n",
    "                   \"Unnamed: 21\", \"Unnamed: 22\", \"Species \"]\n",
    "\n",
    "df = df.drop(columns=columns_to_drop).drop_duplicates().reset_index(drop=True)\n",
    "\n",
    "# 2. Filter rows with Year > 1800 and remove unneeded 'Types':\n",
    "df = df[df[\"Year\"] > 1800]\n",
    "\n",
    "# 3. Types of shark attacks to exclude:\n",
    "undesired_types = [\"Questionable\", \"Boat\", \"Provoked\", \"Provoked \", \"?\",\n",
    "                   \"Unverified\", \"Under investigation\", \"Unconfirmed\"]\n",
    "\n",
    "df = df[~df[\"Type\"].isin(undesired_types)]\n",
    "\n",
    "# 4. Renaming and reformatting columns:\n",
    "df.columns = [col.strip().replace(\" \", \"_\").replace(\".\", \"\").lower() for col in df.columns]\n",
    "df.rename(columns={'unnamed:_11': 'fatal'}, inplace=True)\n",
    "\n",
    "# 5. Creating a copy of the original DataFrame for further manipulation\n",
    "df_copy = df.copy()\n",
    "\n",
    "# Check:\n",
    "print(df.columns.tolist())"
   ]
  },
  {
   "cell_type": "code",
   "execution_count": 5,
   "metadata": {},
   "outputs": [
    {
     "data": {
      "text/plain": [
       "fatal\n",
       "n    4740\n",
       "y    1344\n",
       "Name: count, dtype: int64"
      ]
     },
     "execution_count": 5,
     "metadata": {},
     "output_type": "execute_result"
    }
   ],
   "source": [
    "# Cleaning 'fatal' column:\n",
    "value_map = {'n': 'n', 'y': 'y'}\n",
    "\n",
    "df_copy['fatal'] = df_copy['fatal'].str.strip().str.lower().map(value_map)\n",
    "\n",
    "# Calculate mode:\n",
    "fatal_mode = df_copy['fatal'].mode()[0]\n",
    "\n",
    "# Replace NaNs with 'n':\n",
    "df_copy['fatal'] = df_copy['fatal'].fillna(fatal_mode)\n",
    "\n",
    "# Check:\n",
    "df_copy['fatal'].value_counts(dropna=False)"
   ]
  },
  {
   "cell_type": "code",
   "execution_count": 6,
   "metadata": {},
   "outputs": [
    {
     "name": "stderr",
     "output_type": "stream",
     "text": [
      "C:\\Users\\Marc Jay\\AppData\\Local\\Temp\\ipykernel_12448\\1303956846.py:10: FutureWarning: A value is trying to be set on a copy of a DataFrame or Series through chained assignment using an inplace method.\n",
      "The behavior will change in pandas 3.0. This inplace method will never work because the intermediate object on which we are setting values always behaves as a copy.\n",
      "\n",
      "For example, when doing 'df[col].method(value, inplace=True)', try using 'df.method({col: value}, inplace=True)' or df[col] = df[col].method(value) instead, to perform the operation inplace on the original object.\n",
      "\n",
      "\n",
      "  df_copy['sex'].fillna('unknown', inplace=True)\n"
     ]
    },
    {
     "data": {
      "text/plain": [
       "sex\n",
       "m          4856\n",
       "f           729\n",
       "unknown     499\n",
       "Name: count, dtype: int64"
      ]
     },
     "execution_count": 6,
     "metadata": {},
     "output_type": "execute_result"
    }
   ],
   "source": [
    "# Cleaning 'sex' column:\n",
    "df_copy['sex'] = df_copy['sex'].str.strip().str.lower()\n",
    "\n",
    "# Replace wrong values with 'unknown':\n",
    "invalid_entries = ['lli', 'm x 2', 'n', '.']\n",
    "for entry in invalid_entries:\n",
    "    df_copy['sex'] = df_copy['sex'].replace(entry, 'unknown')\n",
    "\n",
    "# Replace missing values with 'unknown':\n",
    "df_copy['sex'].fillna('unknown', inplace=True)\n",
    "\n",
    "# Check:\n",
    "df_copy['sex'].value_counts(dropna=False)"
   ]
  },
  {
   "cell_type": "code",
   "execution_count": 7,
   "metadata": {},
   "outputs": [
    {
     "name": "stderr",
     "output_type": "stream",
     "text": [
      "C:\\Users\\Marc Jay\\AppData\\Local\\Temp\\ipykernel_12448\\1801775804.py:7: FutureWarning: A value is trying to be set on a copy of a DataFrame or Series through chained assignment using an inplace method.\n",
      "The behavior will change in pandas 3.0. This inplace method will never work because the intermediate object on which we are setting values always behaves as a copy.\n",
      "\n",
      "For example, when doing 'df[col].method(value, inplace=True)', try using 'df.method({col: value}, inplace=True)' or df[col] = df[col].method(value) instead, to perform the operation inplace on the original object.\n",
      "\n",
      "\n",
      "  df_copy['type'].fillna('unknown', inplace=True)\n"
     ]
    },
    {
     "data": {
      "text/plain": [
       "type\n",
       "Unprovoked      4937\n",
       "Invalid          546\n",
       "Watercraft       349\n",
       "Sea Disaster     234\n",
       "unknown           16\n",
       " Provoked          2\n",
       "Name: count, dtype: int64"
      ]
     },
     "execution_count": 7,
     "metadata": {},
     "output_type": "execute_result"
    }
   ],
   "source": [
    "#Cleaning 'type' column:\n",
    "\n",
    "# Remove 'invalid' values:\n",
    "df_copy = df_copy[df_copy['type'] != 'invalid']\n",
    "\n",
    "# Replace 'NaN' with 'unknown':\n",
    "df_copy['type'].fillna('unknown', inplace=True)\n",
    "\n",
    "# Check:\n",
    "df_copy['type'].value_counts(dropna=False)"
   ]
  },
  {
   "cell_type": "code",
   "execution_count": 8,
   "metadata": {},
   "outputs": [
    {
     "name": "stderr",
     "output_type": "stream",
     "text": [
      "C:\\Users\\Marc Jay\\AppData\\Local\\Temp\\ipykernel_12448\\456891302.py:23: FutureWarning: A value is trying to be set on a copy of a DataFrame or Series through chained assignment using an inplace method.\n",
      "The behavior will change in pandas 3.0. This inplace method will never work because the intermediate object on which we are setting values always behaves as a copy.\n",
      "\n",
      "For example, when doing 'df[col].method(value, inplace=True)', try using 'df.method({col: value}, inplace=True)' or df[col] = df[col].method(value) instead, to perform the operation inplace on the original object.\n",
      "\n",
      "\n",
      "  df_copy['time'].fillna(mean_time, inplace=True)\n"
     ]
    },
    {
     "data": {
      "text/plain": [
       "time\n",
       "1319    3543\n",
       "1100     130\n",
       "1500     119\n",
       "1200     116\n",
       "1600     115\n",
       "        ... \n",
       "1623       1\n",
       "1955       1\n",
       "130        1\n",
       "858        1\n",
       "150        1\n",
       "Name: count, Length: 266, dtype: int64"
      ]
     },
     "execution_count": 8,
     "metadata": {},
     "output_type": "execute_result"
    }
   ],
   "source": [
    "# Cleaning 'time' column:\n",
    "df_copy['time'] = df_copy['time'].astype(str)\n",
    "\n",
    "# Function to validate if time is in the correct \"hhmm\" format (e.g., \"1630\"):\n",
    "def validate_time_format(time_str):\n",
    "    # Regex pattern for valid time formats like \"1600\", \"0150\", etc.\n",
    "    pattern = r'^\\d{2}h\\d{2}$'\n",
    "    if re.match(pattern, time_str):\n",
    "        return time_str\n",
    "    else:\n",
    "        return None  # Invalid format, will replace with mean later.\n",
    "\n",
    "# Apply the function and remove 'h', replace invalid/missing times with 'None':\n",
    "df_copy['time'] = df_copy['time'].apply(lambda x: x.replace('h', '') if validate_time_format(x) else None)\n",
    "\n",
    "# Convert 'time' to numeric, keeping NaN as it is to calculate mean time later:\n",
    "df_copy['time'] = pd.to_numeric(df_copy['time'], errors='coerce')\n",
    "\n",
    "# Calculate the mean time, ignoring NaN values in the calculation:\n",
    "mean_time = int(df_copy['time'].mean(skipna=True))\n",
    "\n",
    "# Fill in missing or invalid times with the mean time calculated\n",
    "df_copy['time'].fillna(mean_time, inplace=True)\n",
    "\n",
    "# Ensure 'time' column is integer:\n",
    "df_copy['time'] = df_copy['time'].astype(int)\n",
    "\n",
    "# Check:\n",
    "df_copy['time'].value_counts(dropna=False)"
   ]
  },
  {
   "cell_type": "code",
   "execution_count": 9,
   "metadata": {},
   "outputs": [
    {
     "name": "stdout",
     "output_type": "stream",
     "text": [
      "Mean age: 27.718184429761564\n"
     ]
    },
    {
     "name": "stderr",
     "output_type": "stream",
     "text": [
      "C:\\Users\\Marc Jay\\AppData\\Local\\Temp\\ipykernel_12448\\2787323320.py:11: FutureWarning: A value is trying to be set on a copy of a DataFrame or Series through chained assignment using an inplace method.\n",
      "The behavior will change in pandas 3.0. This inplace method will never work because the intermediate object on which we are setting values always behaves as a copy.\n",
      "\n",
      "For example, when doing 'df[col].method(value, inplace=True)', try using 'df.method({col: value}, inplace=True)' or df[col] = df[col].method(value) instead, to perform the operation inplace on the original object.\n",
      "\n",
      "\n",
      "  df_copy['age'].fillna(age_mean, inplace=True)\n"
     ]
    },
    {
     "data": {
      "text/plain": [
       "age\n",
       "28.0    2685\n",
       "17.0     167\n",
       "18.0     146\n",
       "15.0     142\n",
       "16.0     140\n",
       "        ... \n",
       "72.0       1\n",
       "84.0       1\n",
       "86.0       1\n",
       "87.0       1\n",
       "81.0       1\n",
       "Name: count, Length: 81, dtype: int64"
      ]
     },
     "execution_count": 9,
     "metadata": {},
     "output_type": "execute_result"
    }
   ],
   "source": [
    "# Cleaning 'age' column:\n",
    "\n",
    "# Converting 'age' to numeric, setting errors to NaN:\n",
    "df_copy['age'] = pd.to_numeric(df_copy['age'], errors='coerce')\n",
    "\n",
    "# Calculating the mean age, excluding NaNs:\n",
    "age_mean = df_copy['age'].mean()\n",
    "print(f\"Mean age: {age_mean}\")\n",
    "\n",
    "# Filling missing 'age' values with the calculated mean:\n",
    "df_copy['age'].fillna(age_mean, inplace=True)\n",
    "\n",
    "# Rounding 'age' values to nearest whole number:\n",
    "df_copy['age'] = df_copy['age'].round(0)\n",
    "\n",
    "# Check:\n",
    "df_copy['age'].value_counts(dropna=False)"
   ]
  },
  {
   "cell_type": "code",
   "execution_count": 10,
   "metadata": {},
   "outputs": [
    {
     "name": "stdout",
     "output_type": "stream",
     "text": [
      "head:\n",
      "          date    year        type    country              state  activity  \\\n",
      "0  15 Mar 2024  2024.0  Unprovoked  AUSTRALIA         Queensland  Swimming   \n",
      "1  04 Mar 2024  2024.0  Unprovoked        USA             Hawaii   Surfing   \n",
      "2  02 Mar-2024  2024.0  Unprovoked        USA             Hawaii  Swimming   \n",
      "3  25 Feb-2024  2024.0  Unprovoked  AUSTRALIA  Western Australia       NaN   \n",
      "4  14 Feb-2024  2024.0  Unprovoked      INDIA        Maharashtra   Fishing   \n",
      "\n",
      "  sex   age fatal  time  \n",
      "0   f  13.0     n  1600  \n",
      "1   m  28.0     n  1319  \n",
      "2   f  11.0     n  1330  \n",
      "3   f  46.0     n  1130  \n",
      "4   m  32.0     n  1319  \n",
      "\n",
      "info:\n",
      "<class 'pandas.core.frame.DataFrame'>\n",
      "Index: 6084 entries, 0 to 6741\n",
      "Data columns (total 10 columns):\n",
      " #   Column    Non-Null Count  Dtype  \n",
      "---  ------    --------------  -----  \n",
      " 0   date      6084 non-null   object \n",
      " 1   year      6084 non-null   float64\n",
      " 2   type      6084 non-null   object \n",
      " 3   country   6047 non-null   object \n",
      " 4   state     5686 non-null   object \n",
      " 5   activity  5582 non-null   object \n",
      " 6   sex       6084 non-null   object \n",
      " 7   age       6084 non-null   float64\n",
      " 8   fatal     6084 non-null   object \n",
      " 9   time      6084 non-null   int64  \n",
      "dtypes: float64(2), int64(1), object(7)\n",
      "memory usage: 522.8+ KB\n",
      "\n",
      "describe:\n",
      "              year          age         time\n",
      "count  6084.000000  6084.000000  6084.000000\n",
      "mean   1973.507232    27.838757  1319.235700\n",
      "std      44.870256    10.939079   230.046719\n",
      "min    1802.000000     1.000000    30.000000\n",
      "25%    1950.000000    22.000000  1319.000000\n",
      "50%    1988.000000    28.000000  1319.000000\n",
      "75%    2009.000000    28.000000  1319.000000\n",
      "max    2024.000000    87.000000  2330.000000\n",
      "\n",
      "columns:\n",
      "['date', 'year', 'type', 'country', 'state', 'activity', 'sex', 'age', 'fatal', 'time']\n",
      "\n",
      "missing values:\n",
      "country      37\n",
      "state       398\n",
      "activity    502\n",
      "dtype: int64\n"
     ]
    }
   ],
   "source": [
    "# Subsequent overview of v0.5:\n",
    "# Cell to be (re)moved or updated as we refine our analysis and finalize other KPIs.\n",
    "\n",
    "print(\"head:\")\n",
    "print(df_copy.head())\n",
    "\n",
    "print(\"\\ninfo:\")\n",
    "df_copy.info()\n",
    "\n",
    "print(\"\\ndescribe:\")\n",
    "print(df_copy.describe())\n",
    "\n",
    "print(\"\\ncolumns:\")\n",
    "print(df_copy.columns.tolist())\n",
    "\n",
    "print(\"\\nmissing values:\")\n",
    "print(df_copy.isnull().sum()[df_copy.isnull().sum() > 0])\n",
    "\n",
    "# Pending Cleaning Columns: 'date', 'year', 'activity', 'country', 'state'.\n",
    "# Note on Geo Data: Considering merging 'country' and 'state' into 'location' to preserve data and enhance precision.\n",
    "\n",
    "# Upcoming in v0.6:\n",
    "# - Cleaning for 'date', 'year', 'type' and their integration.\n",
    "# - Decision pending on creating a 'location' column and its integration.\n",
    "\n",
    "# Uniform Commentary: Please keep documentation clear and accessible."
   ]
  },
  {
   "cell_type": "code",
   "execution_count": null,
   "metadata": {},
   "outputs": [],
   "source": []
  }
 ],
 "metadata": {
  "kernelspec": {
   "display_name": "Python 3",
   "language": "python",
   "name": "python3"
  },
  "language_info": {
   "codemirror_mode": {
    "name": "ipython",
    "version": 3
   },
   "file_extension": ".py",
   "mimetype": "text/x-python",
   "name": "python",
   "nbconvert_exporter": "python",
   "pygments_lexer": "ipython3",
   "version": "3.12.6"
  }
 },
 "nbformat": 4,
 "nbformat_minor": 2
}
