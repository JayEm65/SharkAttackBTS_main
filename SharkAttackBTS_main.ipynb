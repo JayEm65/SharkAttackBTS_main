{
 "cells": [
  {
   "cell_type": "code",
   "execution_count": 1,
   "metadata": {},
   "outputs": [
    {
     "ename": "ModuleNotFoundError",
     "evalue": "No module named 'pandas'",
     "output_type": "error",
     "traceback": [
      "\u001b[0;31m---------------------------------------------------------------------------\u001b[0m",
      "\u001b[0;31mModuleNotFoundError\u001b[0m                       Traceback (most recent call last)",
      "Cell \u001b[0;32mIn[1], line 25\u001b[0m\n\u001b[1;32m      1\u001b[0m \u001b[38;5;124;03m\"\"\"\u001b[39;00m\n\u001b[1;32m      2\u001b[0m \u001b[38;5;124;03m# main_script.py\u001b[39;00m\n\u001b[1;32m      3\u001b[0m \n\u001b[0;32m   (...)\u001b[0m\n\u001b[1;32m     21\u001b[0m \n\u001b[1;32m     22\u001b[0m \u001b[38;5;124;03m\"\"\"\u001b[39;00m\n\u001b[1;32m     24\u001b[0m \u001b[38;5;66;03m# Import necessary functions and libraries\u001b[39;00m\n\u001b[0;32m---> 25\u001b[0m \u001b[38;5;28;01mfrom\u001b[39;00m \u001b[38;5;21;01mmodules\u001b[39;00m\u001b[38;5;21;01m.\u001b[39;00m\u001b[38;5;21;01minitial_setup\u001b[39;00m \u001b[38;5;28;01mimport\u001b[39;00m load_data, initial_preview\n\u001b[1;32m     26\u001b[0m \u001b[38;5;28;01mfrom\u001b[39;00m \u001b[38;5;21;01mmodules\u001b[39;00m\u001b[38;5;21;01m.\u001b[39;00m\u001b[38;5;21;01mdata_cleaning\u001b[39;00m \u001b[38;5;28;01mimport\u001b[39;00m initial_cleaning\n\u001b[1;32m     27\u001b[0m \u001b[38;5;28;01mfrom\u001b[39;00m \u001b[38;5;21;01mmodules\u001b[39;00m\u001b[38;5;21;01m.\u001b[39;00m\u001b[38;5;21;01mcolumn_cleaning\u001b[39;00m \u001b[38;5;28;01mimport\u001b[39;00m (clean_fatal_column, clean_sex_column, clean_type_column, clean_time_column, clean_age_column)\n",
      "File \u001b[0;32m~/Ironhack/Repos/SharkAttackBTS_main/modules/initial_setup.py:9\u001b[0m\n\u001b[1;32m      1\u001b[0m \u001b[38;5;124;03m\"\"\"\u001b[39;00m\n\u001b[1;32m      2\u001b[0m \u001b[38;5;124;03m# initial_setup.py\u001b[39;00m\n\u001b[1;32m      3\u001b[0m \n\u001b[0;32m   (...)\u001b[0m\n\u001b[1;32m      6\u001b[0m \u001b[38;5;124;03m- Providing an initial preview of the DataFrame\u001b[39;00m\n\u001b[1;32m      7\u001b[0m \u001b[38;5;124;03m\"\"\"\u001b[39;00m\n\u001b[0;32m----> 9\u001b[0m \u001b[38;5;28;01mimport\u001b[39;00m \u001b[38;5;21;01mpandas\u001b[39;00m \u001b[38;5;28;01mas\u001b[39;00m \u001b[38;5;21;01mpd\u001b[39;00m\n\u001b[1;32m     10\u001b[0m \u001b[38;5;28;01mimport\u001b[39;00m \u001b[38;5;21;01mnumpy\u001b[39;00m \u001b[38;5;28;01mas\u001b[39;00m \u001b[38;5;21;01mnp\u001b[39;00m\n\u001b[1;32m     11\u001b[0m \u001b[38;5;28;01mimport\u001b[39;00m \u001b[38;5;21;01mre\u001b[39;00m\n",
      "\u001b[0;31mModuleNotFoundError\u001b[0m: No module named 'pandas'"
     ]
    }
   ],
   "source": [
    "\"\"\"\n",
    "# main_script.py\n",
    "\n",
    "Usage:\n",
    "This script processes and visualizes shark attack data.\n",
    "\n",
    "This script performs the following:\n",
    "- Loads the shark attack dataset from a specified URL.\n",
    "- Performs initial cleaning and preprocessing of the dataset.\n",
    "- Executes specific column cleaning techniques.\n",
    "- Reformats dates and adds seasonality information.\n",
    "- Handles missing values in specific columns and creates a location column.\n",
    "- Generates visualizations to provide insights into the dataset.\n",
    "\n",
    "The script uses various functions from the following modules:\n",
    "- `initial_setup`: Contains functions to load data and provide an initial preview.\n",
    "- `data_cleaning`: Contains functions for initial cleaning and preparation of the DataFrame.\n",
    "- `column_cleaning`: Contains functions for cleaning specific columns within the DataFrame.\n",
    "- `feature_engineering`: Contains functions for feature engineering such as reformatting dates, adding seasonality, and handling NaNs.\n",
    "- `visualizations`: Contains functions to generate visualizations.\n",
    "\n",
    "\"\"\"\n",
    "\n",
    "# Import necessary functions and libraries\n",
    "from modules.initial_setup import load_data, initial_preview\n",
    "from modules.data_cleaning import initial_cleaning\n",
    "from modules.column_cleaning import (clean_fatal_column, clean_sex_column, clean_type_column, clean_time_column, clean_age_column)\n",
    "from modules.feature_engineering import (apply_date_reformatting, apply_seasonality, handle_activity_location_na)\n",
    "from modules.visualizations import (plot_seasonality_pie_chart, plot_type_distribution_bar)\n",
    "\n",
    "# Load data from URL\n",
    "url = 'https://www.sharkattackfile.net/spreadsheets/GSAF5.xls'\n",
    "df = load_data(url)\n",
    "\n",
    "# Uncomment to get an initial preview of the raw DataFrame\n",
    "# initial_preview(df)\n",
    "\n",
    "# Section 2: DataFrame Cleaning Preparation\n",
    "df = initial_cleaning(df)\n",
    "print(\"Columns after initial cleaning:\", df.columns.tolist())\n",
    "\n",
    "# Create a copy of the cleaned DataFrame for further manipulation\n",
    "df_copy = df.copy()\n",
    "\n",
    "# Section 3: Cleaning Specific Columns\n",
    "df_copy = clean_fatal_column(df_copy)\n",
    "df_copy = clean_sex_column(df_copy)\n",
    "df_copy = clean_type_column(df_copy)\n",
    "df_copy = clean_time_column(df_copy)\n",
    "df_copy = clean_age_column(df_copy)\n",
    "\n",
    "# Section 4: Reformatting Dates and Adding Seasonality Information\n",
    "df_copy = apply_date_reformatting(df_copy)\n",
    "print(\"Date reformatting - value counts:\\n\", df_copy['date'].value_counts(dropna=False))\n",
    "\n",
    "df_copy = apply_seasonality(df_copy)\n",
    "valid_seasons_df = df_copy[df_copy['seasonality'] != \"Unknown\"]\n",
    "season_counts = valid_seasons_df['seasonality'].value_counts()\n",
    "total_count = len(valid_seasons_df)\n",
    "season_percentage = (season_counts / total_count) * 100\n",
    "print(\"Seasonality percentage:\\n\", season_percentage)\n",
    "\n",
    "# Section 5: Handling NaNs in 'activity' and 'location'\n",
    "df_copy = handle_activity_location_na(df_copy)\n",
    "print(\"Activity column - value counts:\\n\", df_copy['activity'].value_counts(dropna=False))\n",
    "\n",
    "# Final Output: Updated DataFrame\n",
    "print(\"Updated DataFrame:\\n\", df_copy.head())\n",
    "\n",
    "# Section 6: Visualizations\n",
    "deaths_by_year = df_copy[df_copy['fatal'] == 'y'].groupby('year').size()\n",
    "\n",
    "# Call visualization functions\n",
    "plot_seasonality_pie_chart(season_counts)\n",
    "plot_type_distribution_bar(df_copy)"
   ]
  },
  {
   "cell_type": "code",
   "execution_count": null,
   "metadata": {},
   "outputs": [],
   "source": []
  }
 ],
 "metadata": {
  "kernelspec": {
   "display_name": "Python 3",
   "language": "python",
   "name": "python3"
  },
  "language_info": {
   "codemirror_mode": {
    "name": "ipython",
    "version": 3
   },
   "file_extension": ".py",
   "mimetype": "text/x-python",
   "name": "python",
   "nbconvert_exporter": "python",
   "pygments_lexer": "ipython3",
   "version": "3.9.6"
  }
 },
 "nbformat": 4,
 "nbformat_minor": 2
}
