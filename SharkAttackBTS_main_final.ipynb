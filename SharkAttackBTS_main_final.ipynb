{
 "cells": [
  {
   "cell_type": "code",
   "execution_count": 9,
   "metadata": {},
   "outputs": [
    {
     "ename": "ImportError",
     "evalue": "cannot import name 'prepare_dataframe' from 'data_cleaning_utils' (c:\\Users\\Marc Jay\\Ironhack\\SharkAttackBTS_main\\data_cleaning_utils.py)",
     "output_type": "error",
     "traceback": [
      "\u001b[1;31m---------------------------------------------------------------------------\u001b[0m",
      "\u001b[1;31mImportError\u001b[0m                               Traceback (most recent call last)",
      "Cell \u001b[1;32mIn[9], line 2\u001b[0m\n\u001b[0;32m      1\u001b[0m \u001b[38;5;66;03m# Step 1: Import the function from your custom module\u001b[39;00m\n\u001b[1;32m----> 2\u001b[0m \u001b[38;5;28;01mfrom\u001b[39;00m \u001b[38;5;21;01mdata_cleaning_utils\u001b[39;00m \u001b[38;5;28;01mimport\u001b[39;00m prepare_dataframe\n\u001b[0;32m      4\u001b[0m \u001b[38;5;66;03m# Step 2: Import necessary library\u001b[39;00m\n\u001b[0;32m      5\u001b[0m \u001b[38;5;28;01mimport\u001b[39;00m \u001b[38;5;21;01mpandas\u001b[39;00m \u001b[38;5;28;01mas\u001b[39;00m \u001b[38;5;21;01mpd\u001b[39;00m\n",
      "\u001b[1;31mImportError\u001b[0m: cannot import name 'prepare_dataframe' from 'data_cleaning_utils' (c:\\Users\\Marc Jay\\Ironhack\\SharkAttackBTS_main\\data_cleaning_utils.py)"
     ]
    }
   ],
   "source": [
    "# Step 1: Import the function from your custom module\n",
    "from data_cleaning_utils import prepare_dataframe\n",
    "\n",
    "# Step 2: Import necessary library\n",
    "import pandas as pd\n",
    "\n",
    "# Step 3: Load the data\n",
    "url = 'https://www.sharkattackfile.net/spreadsheets/GSAF5.xls'\n",
    "df = pd.read_excel(url)\n",
    "\n",
    "# Step 4: Prepare the DataFrame using the imported function\n",
    "cleaned_df = prepare_dataframe(df)\n",
    "\n",
    "# Step 5: Display the first few rows of the cleaned DataFrame to verify\n",
    "cleaned_df.head()"
   ]
  },
  {
   "cell_type": "code",
   "execution_count": null,
   "metadata": {},
   "outputs": [],
   "source": []
  }
 ],
 "metadata": {
  "kernelspec": {
   "display_name": "Python 3",
   "language": "python",
   "name": "python3"
  },
  "language_info": {
   "codemirror_mode": {
    "name": "ipython",
    "version": 3
   },
   "file_extension": ".py",
   "mimetype": "text/x-python",
   "name": "python",
   "nbconvert_exporter": "python",
   "pygments_lexer": "ipython3",
   "version": "3.12.6"
  }
 },
 "nbformat": 4,
 "nbformat_minor": 2
}
